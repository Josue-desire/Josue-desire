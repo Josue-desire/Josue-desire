{
  "nbformat": 4,
  "nbformat_minor": 0,
  "metadata": {
    "colab": {
      "name": "Untitled0.ipynb",
      "provenance": [],
      "include_colab_link": true
    },
    "kernelspec": {
      "name": "python3",
      "display_name": "Python 3"
    }
  },
  "cells": [
    {
      "cell_type": "markdown",
      "metadata": {
        "id": "view-in-github",
        "colab_type": "text"
      },
      "source": [
        "<a href=\"https://colab.research.google.com/github/Josue-desire/Josue-desire/blob/main/Untitled0.ipynb\" target=\"_parent\"><img src=\"https://colab.research.google.com/assets/colab-badge.svg\" alt=\"Open In Colab\"/></a>"
      ]
    },
    {
      "cell_type": "code",
      "source": [
        "!pip install buildozer\n",
        "\n",
        "\n",
        "!pip install cython==0.29.19\n",
        "\n",
        "\n",
        "!sudo apt-get install -y \\\n",
        "    python3-pip \\\n",
        "    build-essential \\\n",
        "    git \\\n",
        "    python3 \\\n",
        "    python3-dev \\\n",
        "    ffmpeg \\\n",
        "    libsdl2-dev \\\n",
        "    libsdl2-image-dev \\\n",
        "    libsdl2-mixer-dev \\\n",
        "    libsdl2-ttf-dev \\\n",
        "    libportmidi-dev \\\n",
        "    libswscale-dev \\\n",
        "    libavformat-dev \\\n",
        "    libavcodec-dev \\\n",
        "    zlib1g-dev\n",
        "\n",
        "\n",
        "!sudo apt-get install -y \\\n",
        "    libgstreamer1.0 \\\n",
        "    gstreamer1.0-plugins-base \\\n",
        "    gstreamer1.0-plugins-good\n",
        "\n",
        "\n",
        "!sudo apt-get install build-essential libsqlite3-dev sqlite3 bzip2 libbz2-dev zlib1g-dev libssl-dev openssl libgdbm-dev libgdbm-compat-dev liblzma-dev libreadline-dev libncursesw5-dev libffi-dev uuid-dev libffi6\n",
        "\n",
        "\n",
        "!sudo apt-get install libffi-dev\n",
        "\n",
        "\n",
        "!buildozer init"
      ],
      "metadata": {
        "id": "7iK1JQ7ulsr8",
        "outputId": "f16e5bc2-9723-44c0-cb87-60a67d25af59",
        "colab": {
          "base_uri": "https://localhost:8080/"
        }
      },
      "execution_count": 13,
      "outputs": [
        {
          "output_type": "stream",
          "name": "stdout",
          "text": [
            "Requirement already satisfied: buildozer in /usr/local/lib/python3.11/dist-packages (1.5.0)\n",
            "Requirement already satisfied: pexpect in /usr/local/lib/python3.11/dist-packages (from buildozer) (4.9.0)\n",
            "Requirement already satisfied: virtualenv in /usr/local/lib/python3.11/dist-packages (from buildozer) (20.31.2)\n",
            "Requirement already satisfied: sh in /usr/local/lib/python3.11/dist-packages (from buildozer) (2.2.2)\n",
            "Requirement already satisfied: ptyprocess>=0.5 in /usr/local/lib/python3.11/dist-packages (from pexpect->buildozer) (0.7.0)\n",
            "Requirement already satisfied: distlib<1,>=0.3.7 in /usr/local/lib/python3.11/dist-packages (from virtualenv->buildozer) (0.3.9)\n",
            "Requirement already satisfied: filelock<4,>=3.12.2 in /usr/local/lib/python3.11/dist-packages (from virtualenv->buildozer) (3.18.0)\n",
            "Requirement already satisfied: platformdirs<5,>=3.9.1 in /usr/local/lib/python3.11/dist-packages (from virtualenv->buildozer) (4.3.8)\n",
            "Requirement already satisfied: cython==0.29.19 in /usr/local/lib/python3.11/dist-packages (0.29.19)\n",
            "Reading package lists... Done\n",
            "Building dependency tree... Done\n",
            "Reading state information... Done\n",
            "build-essential is already the newest version (12.9ubuntu3).\n",
            "libportmidi-dev is already the newest version (1:217-6).\n",
            "libsdl2-image-dev is already the newest version (2.0.5+dfsg1-3build1).\n",
            "libsdl2-mixer-dev is already the newest version (2.0.4+dfsg1-4build1).\n",
            "libsdl2-ttf-dev is already the newest version (2.0.18+dfsg-2).\n",
            "git is already the newest version (1:2.34.1-1ubuntu1.12).\n",
            "python3 is already the newest version (3.10.6-1~22.04.1).\n",
            "python3-dev is already the newest version (3.10.6-1~22.04.1).\n",
            "zlib1g-dev is already the newest version (1:1.2.11.dfsg-2ubuntu9.2).\n",
            "ffmpeg is already the newest version (7:4.4.2-0ubuntu0.22.04.1).\n",
            "libavcodec-dev is already the newest version (7:4.4.2-0ubuntu0.22.04.1).\n",
            "libavformat-dev is already the newest version (7:4.4.2-0ubuntu0.22.04.1).\n",
            "libsdl2-dev is already the newest version (2.0.20+dfsg-2ubuntu1.22.04.1).\n",
            "libswscale-dev is already the newest version (7:4.4.2-0ubuntu0.22.04.1).\n",
            "python3-pip is already the newest version (22.0.2+dfsg-1ubuntu0.5).\n",
            "0 upgraded, 0 newly installed, 0 to remove and 33 not upgraded.\n",
            "Reading package lists... Done\n",
            "Building dependency tree... Done\n",
            "Reading state information... Done\n",
            "Note, selecting 'libgstreamer1.0-dev' for regex 'libgstreamer1.0'\n",
            "Note, selecting 'libgstreamer1.0-0' for regex 'libgstreamer1.0'\n",
            "gstreamer1.0-plugins-base is already the newest version (1.20.1-1ubuntu0.4).\n",
            "gstreamer1.0-plugins-good is already the newest version (1.20.3-0ubuntu1.3).\n",
            "libgstreamer1.0-0 is already the newest version (1.20.3-0ubuntu1.1).\n",
            "libgstreamer1.0-dev is already the newest version (1.20.3-0ubuntu1.1).\n",
            "0 upgraded, 0 newly installed, 0 to remove and 33 not upgraded.\n",
            "Reading package lists... Done\n",
            "Building dependency tree... Done\n",
            "Reading state information... Done\n",
            "E: Unable to locate package libffi6\n",
            "Reading package lists... Done\n",
            "Building dependency tree... Done\n",
            "Reading state information... Done\n",
            "libffi-dev is already the newest version (3.4.2-4).\n",
            "0 upgraded, 0 newly installed, 0 to remove and 33 not upgraded.\n",
            "Traceback (most recent call last):\n",
            "  File \"/usr/local/bin/buildozer\", line 8, in <module>\n",
            "    sys.exit(main())\n",
            "             ^^^^^^\n",
            "  File \"/usr/local/lib/python3.11/dist-packages/buildozer/scripts/client.py\", line 13, in main\n",
            "    Buildozer().run_command(sys.argv[1:])\n",
            "    ^^^^^^^^^^^\n",
            "  File \"/usr/local/lib/python3.11/dist-packages/buildozer/__init__.py\", line 127, in __init__\n",
            "    self.config.read(filename, \"utf-8\")\n",
            "  File \"/usr/lib/python3.11/configparser.py\", line 713, in read\n",
            "    self._read(fp, filename)\n",
            "  File \"/usr/lib/python3.11/configparser.py\", line 1113, in _read\n",
            "    raise DuplicateOptionError(sectname, optname,\n",
            "configparser.DuplicateOptionError: While reading from 'buildozer.spec' [line 46]: option 'android.permissions' in section 'app' already exists\n"
          ]
        }
      ]
    }
  ]
}