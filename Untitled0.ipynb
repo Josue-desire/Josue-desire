{
  "nbformat": 4,
  "nbformat_minor": 0,
  "metadata": {
    "colab": {
      "name": "Untitled0.ipynb",
      "provenance": [],
      "include_colab_link": true
    },
    "kernelspec": {
      "name": "python3",
      "display_name": "Python 3"
    }
  },
  "cells": [
    {
      "cell_type": "markdown",
      "metadata": {
        "id": "view-in-github",
        "colab_type": "text"
      },
      "source": [
        "<a href=\"https://colab.research.google.com/github/Josue-desire/Josue-desire/blob/main/Untitled0.ipynb\" target=\"_parent\"><img src=\"https://colab.research.google.com/assets/colab-badge.svg\" alt=\"Open In Colab\"/></a>"
      ]
    },
    {
      "metadata": {
        "id": "RvqDUNdJVrqN",
        "colab": {
          "base_uri": "https://localhost:8080/",
          "height": 134
        },
        "outputId": "0605c5b1-687a-4a65-ae35-5f9f6a3b007b"
      },
      "cell_type": "code",
      "source": [
        "# Install a Drive FUSE wrapper.\n",
        "# https://github.com/astrada/google-drive-ocamlfuse\n",
        "!apt-get install -y -qq software-properties-common python-software-properties module-init-tools\n",
        "!add-apt-repository -y ppa:alessandro-strada/ppa 2>&1 > /dev/null\n",
        "!apt-get update -qq 2>&1 > /dev/null\n",
        "!apt-get -y install -qq google-drive-ocamlfuse fuse"
      ],
      "execution_count": null,
      "outputs": [
        {
          "output_type": "stream",
          "text": [
            "E: Package 'python-software-properties' has no installation candidate\n",
            "Selecting previously unselected package google-drive-ocamlfuse.\n",
            "(Reading database ... 131352 files and directories currently installed.)\n",
            "Preparing to unpack .../google-drive-ocamlfuse_0.7.1-0ubuntu3~ubuntu18.04.1_amd64.deb ...\n",
            "Unpacking google-drive-ocamlfuse (0.7.1-0ubuntu3~ubuntu18.04.1) ...\n",
            "Setting up google-drive-ocamlfuse (0.7.1-0ubuntu3~ubuntu18.04.1) ...\n",
            "Processing triggers for man-db (2.8.3-2ubuntu0.1) ...\n"
          ],
          "name": "stdout"
        }
      ]
    },
    {
      "metadata": {
        "id": "RSS5_DeHXdxx",
        "colab": {
          "base_uri": "https://localhost:8080/",
          "height": 185
        },
        "outputId": "5ce963f4-7639-45bd-e59c-a46e6b40339a"
      },
      "cell_type": "code",
      "source": [
        "!pip install https://download.pytorch.org/whl/cu80/torch-0.4.1-cp36-cp36m-linux_x86_64.whl"
      ],
      "execution_count": null,
      "outputs": [
        {
          "output_type": "stream",
          "text": [
            "Collecting torch==0.4.1 from https://download.pytorch.org/whl/cu80/torch-0.4.1-cp36-cp36m-linux_x86_64.whl\n",
            "\u001b[?25l  Downloading https://download.pytorch.org/whl/cu80/torch-0.4.1-cp36-cp36m-linux_x86_64.whl (483.0MB)\n",
            "\u001b[K    100% |████████████████████████████████| 483.0MB 30kB/s \n",
            "\u001b[31mtorchvision 0.2.1 has requirement pillow>=4.1.1, but you'll have pillow 4.0.0 which is incompatible.\u001b[0m\n",
            "\u001b[31mfastai 1.0.45 has requirement torch>=1.0.0, but you'll have torch 0.4.1 which is incompatible.\u001b[0m\n",
            "\u001b[?25hInstalling collected packages: torch\n",
            "  Found existing installation: torch 1.0.1.post2\n",
            "    Uninstalling torch-1.0.1.post2:\n",
            "      Successfully uninstalled torch-1.0.1.post2\n",
            "Successfully installed torch-0.4.1\n"
          ],
          "name": "stdout"
        }
      ]
    },
    {
      "metadata": {
        "id": "YLGe2TAPXer6"
      },
      "cell_type": "code",
      "source": [
        "import torch"
      ],
      "execution_count": null,
      "outputs": []
    },
    {
      "metadata": {
        "id": "JIKcwBxDmVmG"
      },
      "cell_type": "code",
      "source": [
        "def avtivation(x):\n",
        "\n",
        "  #sigmod activation function\n",
        "\n",
        "  return 1/(1+torch.exp(-x))"
      ],
      "execution_count": null,
      "outputs": []
    },
    {
      "metadata": {
        "id": "zY5PeZ4emyFo"
      },
      "cell_type": "code",
      "source": [
        "torch.manual_seed(7)\n",
        "\n",
        "features = torch.randn((1,5))\n",
        "\n",
        "weights = torch.rand_like(features)\n",
        "\n",
        "bias = torch.randn((1,1))"
      ],
      "execution_count": null,
      "outputs": []
    },
    {
      "metadata": {
        "id": "t3BOhS8enhMH",
        "colab": {
          "base_uri": "https://localhost:8080/",
          "height": 34
        },
        "outputId": "056b48ef-f60a-4eac-8626-1e1b77e79f5d"
      },
      "cell_type": "code",
      "source": [
        "output = avtivation(torch.mm(features,weights.view(5,1)) + bias)\n",
        "print(output)"
      ],
      "execution_count": null,
      "outputs": [
        {
          "output_type": "stream",
          "text": [
            "tensor([[0.6140]])\n"
          ],
          "name": "stdout"
        }
      ]
    },
    {
      "metadata": {
        "id": "bJi5txlUpdY-",
        "colab": {
          "base_uri": "https://localhost:8080/",
          "height": 34
        },
        "outputId": "0b804901-988a-42a8-a3cf-9176604dbc58"
      },
      "cell_type": "code",
      "source": [
        "print(output)"
      ],
      "execution_count": null,
      "outputs": [
        {
          "output_type": "stream",
          "text": [
            "tensor([[0.6140]])\n"
          ],
          "name": "stdout"
        }
      ]
    },
    {
      "metadata": {
        "id": "HXHqlqZXpxL-"
      },
      "cell_type": "code",
      "source": [
        "#genrating some data\n",
        "\n",
        "torch.manual_seed(7)\n",
        "\n",
        "features = torch.randn((1,3))\n",
        "\n",
        "n_input = features.shape[1]\n",
        "n_hidden = 2\n",
        "n_output = 1\n",
        "\n",
        "# weights for the hidden layer\n",
        "W1 = torch.randn(n_input, n_hidden)\n",
        "# weights for the secong layer\n",
        "W2 = torch.randn(n_hidden, n_output)\n",
        "\n",
        "\n",
        "# Bias for the hidden layer and output layer\n",
        "B1 = torch.randn((1, n_hidden))\n",
        "B2 = torch.randn((1, n_output))"
      ],
      "execution_count": null,
      "outputs": []
    },
    {
      "metadata": {
        "id": "J1oigBoiue13",
        "colab": {
          "base_uri": "https://localhost:8080/",
          "height": 34
        },
        "outputId": "07ada54a-c1e2-4535-e428-5849bf3c719e"
      },
      "cell_type": "code",
      "source": [
        "A1 = avtivation(torch.mm(features, W1) + B1)\n",
        "output1 = avtivation(torch.mm(A1, W2) + B2)\n",
        "print(output1)"
      ],
      "execution_count": null,
      "outputs": [
        {
          "output_type": "stream",
          "text": [
            "tensor([[0.3171]])\n"
          ],
          "name": "stdout"
        }
      ]
    },
    {
      "metadata": {
        "id": "8WIVPRo7vcHY"
      },
      "cell_type": "code",
      "source": [
        "#genrating some data\n",
        "\n",
        "torch.manual_seed(6)\n",
        "\n",
        "features = torch.randn((3,1))\n",
        "\n",
        "n_features = features.shape[0]\n",
        "n_hidden = 2\n",
        "n_output = 1\n",
        "\n",
        "# weights for the hidden layer\n",
        "W1 = torch.randn(n_hidden,n_features)\n",
        "# weights for the secong layer\n",
        "W2 = torch.randn(n_output,n_hidden)\n",
        "\n",
        "\n",
        "# Bias for the hidden layer and output layer\n",
        "B1 = torch.randn((n_hidden,1))\n",
        "B2 = torch.randn((n_output,1))"
      ],
      "execution_count": null,
      "outputs": []
    },
    {
      "metadata": {
        "id": "KSS-fiyfvc9z",
        "colab": {
          "base_uri": "https://localhost:8080/",
          "height": 34
        },
        "outputId": "dba9b5b7-6569-451d-a259-1e0681dfccd6"
      },
      "cell_type": "code",
      "source": [
        "A1 = avtivation(torch.mm(W1,features) + B1)\n",
        "output1 = avtivation(torch.mm(W2,A1) + B2)\n",
        "print(output1)"
      ],
      "execution_count": null,
      "outputs": [
        {
          "output_type": "stream",
          "text": [
            "tensor([[0.1690]])\n"
          ],
          "name": "stdout"
        }
      ]
    },
    {
      "metadata": {
        "id": "pNdQBe470erq"
      },
      "cell_type": "code",
      "source": [
        "import numpy as np"
      ],
      "execution_count": null,
      "outputs": []
    },
    {
      "metadata": {
        "id": "14cgvnfn36bz"
      },
      "cell_type": "code",
      "source": [
        "a = np.random.randn(4,3)"
      ],
      "execution_count": null,
      "outputs": []
    },
    {
      "metadata": {
        "id": "qKbCvHwv4BQt",
        "colab": {
          "base_uri": "https://localhost:8080/",
          "height": 84
        },
        "outputId": "66c033f5-bcbc-4d89-bce9-25fa08155550"
      },
      "cell_type": "code",
      "source": [
        "a"
      ],
      "execution_count": null,
      "outputs": [
        {
          "output_type": "execute_result",
          "data": {
            "text/plain": [
              "array([[ 0.60931818,  0.45346122, -0.59840094],\n",
              "       [-2.93734316, -0.55852115,  0.91436183],\n",
              "       [-1.49942391, -1.69075317, -0.31717797],\n",
              "       [ 0.23762722, -0.78078314, -0.77444059]])"
            ]
          },
          "metadata": {
            "tags": []
          },
          "execution_count": 72
        }
      ]
    },
    {
      "metadata": {
        "id": "7xP3nXOL4Cr3"
      },
      "cell_type": "code",
      "source": [
        "b = torch.from_numpy(a)"
      ],
      "execution_count": null,
      "outputs": []
    },
    {
      "metadata": {
        "id": "p9BzQ4UG4H45",
        "colab": {
          "base_uri": "https://localhost:8080/",
          "height": 84
        },
        "outputId": "f85b1aa1-4373-4253-fd92-430d320dafc5"
      },
      "cell_type": "code",
      "source": [
        "b"
      ],
      "execution_count": null,
      "outputs": [
        {
          "output_type": "execute_result",
          "data": {
            "text/plain": [
              "tensor([[ 0.6093,  0.4535, -0.5984],\n",
              "        [-2.9373, -0.5585,  0.9144],\n",
              "        [-1.4994, -1.6908, -0.3172],\n",
              "        [ 0.2376, -0.7808, -0.7744]], dtype=torch.float64)"
            ]
          },
          "metadata": {
            "tags": []
          },
          "execution_count": 74
        }
      ]
    },
    {
      "metadata": {
        "id": "H8xvR0vb4IfH"
      },
      "cell_type": "code",
      "source": [
        "from torchvision import datasets, transforms\n",
        "\n",
        "\n",
        "transform = transforms.Compose([transforms.ToTensor(),transforms.Normalize((0.5, 0.5, 0.3), (0.5, 0.5, 0.5))])\n",
        "\n",
        "trainset = datasets.MNIST('MNIST_data/', download=True, train=True,transform=transform)\n",
        "trainloader = torch.utils.data.DataLoader(trainset, batch_size=64, shuffle=True)"
      ],
      "execution_count": null,
      "outputs": []
    },
    {
      "metadata": {
        "id": "LQyZXlpC5UNo"
      },
      "cell_type": "code",
      "source": [
        "%matplotlib inline\n",
        "\n",
        "import helper\n",
        "\n",
        "import matplotlib.pyplot as plt"
      ],
      "execution_count": null,
      "outputs": []
    },
    {
      "metadata": {
        "id": "rHE9ngqs9HCW",
        "colab": {
          "base_uri": "https://localhost:8080/",
          "height": 67
        },
        "outputId": "5ef99f2b-9dec-4b11-f6db-2c5cb1e7bb0a"
      },
      "cell_type": "code",
      "source": [
        "dataiter = iter(trainloader)\n",
        "images, label = dataiter.next()\n",
        "\n",
        "print(type(images))\n",
        "print(images.shape)\n",
        "print(label.shape)\n"
      ],
      "execution_count": null,
      "outputs": [
        {
          "output_type": "stream",
          "text": [
            "<class 'torch.Tensor'>\n",
            "torch.Size([64, 1, 28, 28])\n",
            "torch.Size([64])\n"
          ],
          "name": "stdout"
        }
      ]
    },
    {
      "metadata": {
        "id": "eD7PrmRn9y4P",
        "colab": {
          "base_uri": "https://localhost:8080/",
          "height": 282
        },
        "outputId": "d4bce35a-5ec6-4f5e-84fa-e48da9d40a82"
      },
      "cell_type": "code",
      "source": [
        "plt.imshow(images[8].numpy().squeeze())"
      ],
      "execution_count": null,
      "outputs": [
        {
          "output_type": "execute_result",
          "data": {
            "text/plain": [
              "<matplotlib.image.AxesImage at 0x7f5ec8ae9048>"
            ]
          },
          "metadata": {
            "tags": []
          },
          "execution_count": 90
        },
        {
          "output_type": "display_data",
          "data": {
            "image/png": "[encoded data removed]",
            "text/plain": [
              "<Figure size 432x288 with 1 Axes>"
            ]
          },
          "metadata": {
            "tags": []
          }
        }
      ]
    },
    {
      "metadata": {
        "id": "Q-ulODBp-PjF"
      },
      "cell_type": "code",
      "source": [
        "def activation(x):\n",
        "  return 1/(1+torch.exp(-x))\n",
        "\n",
        "# Flatten the input images\n",
        "inputs = images.view(images.shape[0], -1)\n",
        "\n",
        "\n",
        "#Create the weight and baises parameter\n",
        "\n",
        "w1 = torch.randn(784,256)\n",
        "b1 = torch.randn(256)\n",
        "\n",
        "w2 = torch.randn(256,10)\n",
        "b2 = torch.randn(10)\n",
        "\n",
        "\n",
        "h = activation(torch.mm(inputs,w1) + b1)\n",
        "\n",
        "out = torch.mm(h,w2)+ b2"
      ],
      "execution_count": null,
      "outputs": []
    },
    {
      "metadata": {
        "id": "JCfwijWbCAnU",
        "colab": {
          "base_uri": "https://localhost:8080/",
          "height": 34
        },
        "outputId": "e5913fb5-e0e0-4c0e-b473-462051de4fb7"
      },
      "cell_type": "code",
      "source": [
        "def softmax(out):\n",
        "\n",
        "  out[]"
      ],
      "execution_count": null,
      "outputs": [
        {
          "output_type": "execute_result",
          "data": {
            "text/plain": [
              "torch.Size([64, 10])"
            ]
          },
          "metadata": {
            "tags": []
          },
          "execution_count": 100
        }
      ]
    },
    {
      "metadata": {
        "id": "GtBSRsY_EOzs"
      },
      "cell_type": "code",
      "source": [],
      "execution_count": null,
      "outputs": []
    },
    {
      "metadata": {
        "id": "x2uf6_pCCvYO"
      },
      "cell_type": "code",
      "source": [],
      "execution_count": null,
      "outputs": []
    },
    {
      "cell_type": "code",
      "source": [
        "# Actualiza e instala dependencias\n",
        "!sudo apt-get update\n",
        "!sudo apt-get install -y python3-pip git unzip openjdk-17-jdk\n",
        "# Instala Kivy\n",
        "!sudo apt-get pip3 install --upgrade pip\n",
        "!sudo apt-get pip3 install kivy\n"
      ],
      "metadata": {
        "id": "piU4ZexLMo-H"
      },
      "execution_count": null,
      "outputs": []
    }
  ]
}