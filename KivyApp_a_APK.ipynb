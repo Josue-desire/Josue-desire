{
  "nbformat": 4,
  "nbformat_minor": 0,
  "metadata": {
    "colab": {
      "name": "KivyApp a APK.ipynb",
      "provenance": [],
      "include_colab_link": true
    },
    "kernelspec": {
      "name": "python3",
      "display_name": "Python 3"
    }
  },
  "cells": [
    {
      "cell_type": "markdown",
      "metadata": {
        "id": "view-in-github",
        "colab_type": "text"
      },
      "source": [
        "<a href=\"https://colab.research.google.com/github/Josue-desire/Josue-desire/blob/main/KivyApp_a_APK.ipynb\" target=\"_parent\"><img src=\"https://colab.research.google.com/assets/colab-badge.svg\" alt=\"Open In Colab\"/></a>"
      ]
    },
    {
      "cell_type": "markdown",
      "metadata": {
        "id": "u5LQ-TqckIqn"
      },
      "source": [
        "**Convertir la aplicación Python en APK**"
      ]
    },
    {
      "cell_type": "markdown",
      "metadata": {
        "id": "5VgeCFq8imYi"
      },
      "source": [
        "Como se trata de un sistema basado en Linux, ahora lo único que se requiere es instalar las dependencias e iniciar el proceso.\n",
        "\n",
        "Antes de ejecutar las celdas, asegúrese de cargar el código de su aplicación en el cuaderno de colab y, después de ejecutar el comando bulldozer init, asegúrese de editar el archivo de especificaciones generado y nada más.\n",
        "\n",
        "*Fuente:* *https://towardsdatascience.com/3-ways-to-convert-python-app-into-apk-77f4c9cd55af*\n"
      ]
    },
    {
      "cell_type": "code",
      "metadata": {
        "id": "Yzg0jnV7dHTp"
      },
      "source": [
        "!pip install buildozer"
      ],
      "execution_count": null,
      "outputs": []
    },
    {
      "cell_type": "code",
      "metadata": {
        "id": "XX3isEFydNar"
      },
      "source": [
        "!pip install cython==0.29.19"
      ],
      "execution_count": null,
      "outputs": []
    },
    {
      "cell_type": "code",
      "metadata": {
        "id": "QZRYW9UvdcDt"
      },
      "source": [
        "!sudo apt-get install -y \\\n",
        "    python3-pip \\\n",
        "    build-essential \\\n",
        "    git \\\n",
        "    python3 \\\n",
        "    python3-dev \\\n",
        "    ffmpeg \\\n",
        "    libsdl2-dev \\\n",
        "    libsdl2-image-dev \\\n",
        "    libsdl2-mixer-dev \\\n",
        "    libsdl2-ttf-dev \\\n",
        "    libportmidi-dev \\\n",
        "    libswscale-dev \\\n",
        "    libavformat-dev \\\n",
        "    libavcodec-dev \\\n",
        "    zlib1g-dev"
      ],
      "execution_count": null,
      "outputs": []
    },
    {
      "cell_type": "code",
      "metadata": {
        "id": "S9Z7KfTOnXuZ"
      },
      "source": [
        "!sudo apt-get install -y \\\n",
        "    libgstreamer1.0 \\\n",
        "    gstreamer1.0-plugins-base \\\n",
        "    gstreamer1.0-plugins-good"
      ],
      "execution_count": null,
      "outputs": []
    },
    {
      "cell_type": "code",
      "metadata": {
        "id": "Gjp7v6bTnd5V"
      },
      "source": [
        "!sudo apt-get install build-essential libsqlite3-dev sqlite3 bzip2 libbz2-dev zlib1g-dev libssl-dev openssl libgdbm-dev libgdbm-compat-dev liblzma-dev libreadline-dev libncursesw5-dev libffi-dev uuid-dev libffi6"
      ],
      "execution_count": null,
      "outputs": []
    },
    {
      "cell_type": "code",
      "metadata": {
        "id": "DA3BNyuKnrI1"
      },
      "source": [
        "!sudo apt-get install libffi-dev"
      ],
      "execution_count": null,
      "outputs": []
    },
    {
      "cell_type": "code",
      "metadata": {
        "id": "EeTysn9dntOO"
      },
      "source": [
        "!buildozer init"
      ],
      "execution_count": null,
      "outputs": []
    },
    {
      "cell_type": "code",
      "metadata": {
        "id": "tLbircO10N0a"
      },
      "source": [
        "!buildozer -v android debug"
      ],
      "execution_count": null,
      "outputs": []
    },
    {
      "cell_type": "code",
      "metadata": {
        "id": "YZPSi3j4oweu"
      },
      "source": [
        "!buildozer android clean"
      ],
      "execution_count": null,
      "outputs": []
    },
    {
      "cell_type": "code",
      "metadata": {
        "id": "wyVLXEgJFeqv"
      },
      "source": [],
      "execution_count": null,
      "outputs": []
    },
    {
      "cell_type": "code",
      "source": [
        "!pip install buildozer\n",
        "\n",
        "\n",
        "!pip install cython==0.29.19\n",
        "\n",
        "\n",
        "!sudo apt-get install -y \\\n",
        "    python3-pip \\\n",
        "    build-essential \\\n",
        "    git \\\n",
        "    python3 \\\n",
        "    python3-dev \\\n",
        "    ffmpeg \\\n",
        "    libsdl2-dev \\\n",
        "    libsdl2-image-dev \\\n",
        "    libsdl2-mixer-dev \\\n",
        "    libsdl2-ttf-dev \\\n",
        "    libportmidi-dev \\\n",
        "    libswscale-dev \\\n",
        "    libavformat-dev \\\n",
        "    libavcodec-dev \\\n",
        "    zlib1g-dev\n",
        "\n",
        "\n",
        "!sudo apt-get install -y \\\n",
        "    libgstreamer1.0 \\\n",
        "    gstreamer1.0-plugins-base \\\n",
        "    gstreamer1.0-plugins-good\n",
        "\n",
        "\n",
        "!sudo apt-get install build-essential libsqlite3-dev sqlite3 bzip2 libbz2-dev zlib1g-dev libssl-dev openssl libgdbm-dev libgdbm-compat-dev liblzma-dev libreadline-dev libncursesw5-dev libffi-dev uuid-dev libffi6\n",
        "\n",
        "\n",
        "!sudo apt-get install libffi-dev\n",
        "\n",
        "\n",
        "!buildozer init"
      ],
      "metadata": {
        "id": "WU2silxllqYy"
      },
      "execution_count": null,
      "outputs": []
    },
    {
      "cell_type": "code",
      "source": [
        "!pip install buildozer\n",
        "\n",
        "\n",
        "!pip install cython==0.29.19\n",
        "\n",
        "\n",
        "!sudo apt-get install -y \\\n",
        "    python3-pip \\\n",
        "    build-essential \\\n",
        "    git \\\n",
        "    python3 \\\n",
        "    python3-dev \\\n",
        "    ffmpeg \\\n",
        "    libsdl2-dev \\\n",
        "    libsdl2-image-dev \\\n",
        "    libsdl2-mixer-dev \\\n",
        "    libsdl2-ttf-dev \\\n",
        "    libportmidi-dev \\\n",
        "    libswscale-dev \\\n",
        "    libavformat-dev \\\n",
        "    libavcodec-dev \\\n",
        "    zlib1g-dev\n",
        "\n",
        "\n",
        "!sudo apt-get install -y \\\n",
        "    libgstreamer1.0 \\\n",
        "    gstreamer1.0-plugins-base \\\n",
        "    gstreamer1.0-plugins-good\n",
        "\n",
        "\n",
        "!sudo apt-get install build-essential libsqlite3-dev sqlite3 bzip2 libbz2-dev zlib1g-dev libssl-dev openssl libgdbm-dev libgdbm-compat-dev liblzma-dev libreadline-dev libncursesw5-dev libffi-dev uuid-dev libffi6\n",
        "\n",
        "\n",
        "!sudo apt-get install libffi-dev\n",
        "\n",
        "\n",
        "!buildozer init"
      ],
      "metadata": {
        "colab": {
          "base_uri": "https://localhost:8080/"
        },
        "id": "sgv2jfvaqDf3",
        "outputId": "68feeb9d-4280-4480-d080-58f0a461047e"
      },
      "execution_count": 5,
      "outputs": [
        {
          "output_type": "stream",
          "name": "stdout",
          "text": [
            "Requirement already satisfied: buildozer in /usr/local/lib/python3.11/dist-packages (1.5.0)\n",
            "Requirement already satisfied: pexpect in /usr/local/lib/python3.11/dist-packages (from buildozer) (4.9.0)\n",
            "Requirement already satisfied: virtualenv in /usr/local/lib/python3.11/dist-packages (from buildozer) (20.31.2)\n",
            "Requirement already satisfied: sh in /usr/local/lib/python3.11/dist-packages (from buildozer) (2.2.2)\n",
            "Requirement already satisfied: ptyprocess>=0.5 in /usr/local/lib/python3.11/dist-packages (from pexpect->buildozer) (0.7.0)\n",
            "Requirement already satisfied: distlib<1,>=0.3.7 in /usr/local/lib/python3.11/dist-packages (from virtualenv->buildozer) (0.3.9)\n",
            "Requirement already satisfied: filelock<4,>=3.12.2 in /usr/local/lib/python3.11/dist-packages (from virtualenv->buildozer) (3.18.0)\n",
            "Requirement already satisfied: platformdirs<5,>=3.9.1 in /usr/local/lib/python3.11/dist-packages (from virtualenv->buildozer) (4.3.8)\n",
            "Requirement already satisfied: cython==0.29.19 in /usr/local/lib/python3.11/dist-packages (0.29.19)\n",
            "Reading package lists... Done\n",
            "Building dependency tree... Done\n",
            "Reading state information... Done\n",
            "build-essential is already the newest version (12.9ubuntu3).\n",
            "libportmidi-dev is already the newest version (1:217-6).\n",
            "libsdl2-image-dev is already the newest version (2.0.5+dfsg1-3build1).\n",
            "libsdl2-mixer-dev is already the newest version (2.0.4+dfsg1-4build1).\n",
            "libsdl2-ttf-dev is already the newest version (2.0.18+dfsg-2).\n",
            "git is already the newest version (1:2.34.1-1ubuntu1.12).\n",
            "python3 is already the newest version (3.10.6-1~22.04.1).\n",
            "python3-dev is already the newest version (3.10.6-1~22.04.1).\n",
            "zlib1g-dev is already the newest version (1:1.2.11.dfsg-2ubuntu9.2).\n",
            "ffmpeg is already the newest version (7:4.4.2-0ubuntu0.22.04.1).\n",
            "libavcodec-dev is already the newest version (7:4.4.2-0ubuntu0.22.04.1).\n",
            "libavformat-dev is already the newest version (7:4.4.2-0ubuntu0.22.04.1).\n",
            "libsdl2-dev is already the newest version (2.0.20+dfsg-2ubuntu1.22.04.1).\n",
            "libswscale-dev is already the newest version (7:4.4.2-0ubuntu0.22.04.1).\n",
            "python3-pip is already the newest version (22.0.2+dfsg-1ubuntu0.5).\n",
            "0 upgraded, 0 newly installed, 0 to remove and 33 not upgraded.\n",
            "Reading package lists... Done\n",
            "Building dependency tree... Done\n",
            "Reading state information... Done\n",
            "Note, selecting 'libgstreamer1.0-dev' for regex 'libgstreamer1.0'\n",
            "Note, selecting 'libgstreamer1.0-0' for regex 'libgstreamer1.0'\n",
            "gstreamer1.0-plugins-base is already the newest version (1.20.1-1ubuntu0.4).\n",
            "gstreamer1.0-plugins-good is already the newest version (1.20.3-0ubuntu1.3).\n",
            "libgstreamer1.0-0 is already the newest version (1.20.3-0ubuntu1.1).\n",
            "libgstreamer1.0-dev is already the newest version (1.20.3-0ubuntu1.1).\n",
            "0 upgraded, 0 newly installed, 0 to remove and 33 not upgraded.\n",
            "Reading package lists... Done\n",
            "Building dependency tree... Done\n",
            "Reading state information... Done\n",
            "E: Unable to locate package libffi6\n",
            "Reading package lists... Done\n",
            "Building dependency tree... Done\n",
            "Reading state information... Done\n",
            "libffi-dev is already the newest version (3.4.2-4).\n",
            "0 upgraded, 0 newly installed, 0 to remove and 33 not upgraded.\n",
            "\u001b[91m\u001b[1mBuildozer is running as root!\u001b[0m\n",
            "\u001b[91mThis is \u001b[1mnot\u001b[0m \u001b[91mrecommended, and may lead to problems later.\u001b[0m\n",
            "Are you sure you want to continue [y/n]? y\n",
            "File buildozer.spec created, ready to customize!\n"
          ]
        }
      ]
    }
  ]
}