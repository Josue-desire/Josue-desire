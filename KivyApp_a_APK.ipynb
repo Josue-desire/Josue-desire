{
  "nbformat": 4,
  "nbformat_minor": 0,
  "metadata": {
    "colab": {
      "name": "KivyApp a APK.ipynb",
      "provenance": [],
      "include_colab_link": true
    },
    "kernelspec": {
      "name": "python3",
      "display_name": "Python 3"
    }
  },
  "cells": [
    {
      "cell_type": "markdown",
      "metadata": {
        "id": "view-in-github",
        "colab_type": "text"
      },
      "source": [
        "<a href=\"https://colab.research.google.com/github/Josue-desire/Josue-desire/blob/main/KivyApp_a_APK.ipynb\" target=\"_parent\"><img src=\"https://colab.research.google.com/assets/colab-badge.svg\" alt=\"Open In Colab\"/></a>"
      ]
    },
    {
      "cell_type": "markdown",
      "metadata": {
        "id": "u5LQ-TqckIqn"
      },
      "source": [
        "**Convertir la aplicación Python en APK**"
      ]
    },
    {
      "cell_type": "markdown",
      "metadata": {
        "id": "5VgeCFq8imYi"
      },
      "source": [
        "Como se trata de un sistema basado en Linux, ahora lo único que se requiere es instalar las dependencias e iniciar el proceso.\n",
        "\n",
        "Antes de ejecutar las celdas, asegúrese de cargar el código de su aplicación en el cuaderno de colab y, después de ejecutar el comando bulldozer init, asegúrese de editar el archivo de especificaciones generado y nada más.\n",
        "\n",
        "*Fuente:* *https://towardsdatascience.com/3-ways-to-convert-python-app-into-apk-77f4c9cd55af*\n"
      ]
    },
    {
      "cell_type": "code",
      "metadata": {
        "id": "Yzg0jnV7dHTp"
      },
      "source": [
        "!pip install buildozer"
      ],
      "execution_count": null,
      "outputs": []
    },
    {
      "cell_type": "code",
      "metadata": {
        "id": "XX3isEFydNar"
      },
      "source": [
        "!pip install cython==0.29.19"
      ],
      "execution_count": null,
      "outputs": []
    },
    {
      "cell_type": "code",
      "metadata": {
        "id": "QZRYW9UvdcDt"
      },
      "source": [
        "!sudo apt-get install -y \\\n",
        "    python3-pip \\\n",
        "    build-essential \\\n",
        "    git \\\n",
        "    python3 \\\n",
        "    python3-dev \\\n",
        "    ffmpeg \\\n",
        "    libsdl2-dev \\\n",
        "    libsdl2-image-dev \\\n",
        "    libsdl2-mixer-dev \\\n",
        "    libsdl2-ttf-dev \\\n",
        "    libportmidi-dev \\\n",
        "    libswscale-dev \\\n",
        "    libavformat-dev \\\n",
        "    libavcodec-dev \\\n",
        "    zlib1g-dev"
      ],
      "execution_count": null,
      "outputs": []
    },
    {
      "cell_type": "code",
      "metadata": {
        "id": "S9Z7KfTOnXuZ"
      },
      "source": [
        "!sudo apt-get install -y \\\n",
        "    libgstreamer1.0 \\\n",
        "    gstreamer1.0-plugins-base \\\n",
        "    gstreamer1.0-plugins-good"
      ],
      "execution_count": null,
      "outputs": []
    },
    {
      "cell_type": "code",
      "metadata": {
        "id": "Gjp7v6bTnd5V"
      },
      "source": [
        "!sudo apt-get install build-essential libsqlite3-dev sqlite3 bzip2 libbz2-dev zlib1g-dev libssl-dev openssl libgdbm-dev libgdbm-compat-dev liblzma-dev libreadline-dev libncursesw5-dev libffi-dev uuid-dev libffi6"
      ],
      "execution_count": null,
      "outputs": []
    },
    {
      "cell_type": "code",
      "metadata": {
        "id": "DA3BNyuKnrI1"
      },
      "source": [
        "!sudo apt-get install libffi-dev"
      ],
      "execution_count": null,
      "outputs": []
    },
    {
      "cell_type": "code",
      "metadata": {
        "id": "EeTysn9dntOO"
      },
      "source": [
        "!buildozer init"
      ],
      "execution_count": null,
      "outputs": []
    },
    {
      "cell_type": "code",
      "metadata": {
        "id": "tLbircO10N0a",
        "colab": {
          "base_uri": "https://localhost:8080/"
        },
        "outputId": "8e880a76-968f-4546-867f-52d7dfcf90dd"
      },
      "source": [
        "!buildozer -v android debug"
      ],
      "execution_count": 10,
      "outputs": [
        {
          "output_type": "stream",
          "name": "stdout",
          "text": [
            "Traceback (most recent call last):\n",
            "  File \"/usr/local/bin/buildozer\", line 8, in <module>\n",
            "    sys.exit(main())\n",
            "             ^^^^^^\n",
            "  File \"/usr/local/lib/python3.11/dist-packages/buildozer/scripts/client.py\", line 13, in main\n",
            "    Buildozer().run_command(sys.argv[1:])\n",
            "    ^^^^^^^^^^^\n",
            "  File \"/usr/local/lib/python3.11/dist-packages/buildozer/__init__.py\", line 127, in __init__\n",
            "    self.config.read(filename, \"utf-8\")\n",
            "  File \"/usr/lib/python3.11/configparser.py\", line 713, in read\n",
            "    self._read(fp, filename)\n",
            "  File \"/usr/lib/python3.11/configparser.py\", line 1113, in _read\n",
            "    raise DuplicateOptionError(sectname, optname,\n",
            "configparser.DuplicateOptionError: While reading from 'buildozer.spec' [line 35]: option 'android.features' in section 'app' already exists\n",
            "\u001b[0m"
          ]
        }
      ]
    }
  ]
}